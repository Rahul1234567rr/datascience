{
 "cells": [
  {
   "cell_type": "code",
   "execution_count": 1,
   "id": "bcb708e1",
   "metadata": {},
   "outputs": [],
   "source": [
    "import pandas as pd\n",
    "import os\n",
    "import seaborn as sns\n",
    "import matplotlib.pyplot as plt\n",
    "import warnings \n",
    "from warnings import filterwarnings\n",
    "from sklearn.datasets import make_blobs"
   ]
  },
  {
   "cell_type": "code",
   "execution_count": 2,
   "id": "d9904411",
   "metadata": {},
   "outputs": [
    {
     "data": {
      "text/plain": [
       "(array([[ 8.15747936e-01,  8.00803699e+00,  5.20013998e+00],\n",
       "        [-6.71138633e+00, -2.41691250e+00,  6.66880742e-01],\n",
       "        [ 2.70695989e-01,  7.67190858e+00,  7.32605274e+00],\n",
       "        [-6.94525382e+00, -2.70261674e+00,  3.47550721e+00],\n",
       "        [-4.90089493e+00, -2.42001347e+00,  7.47143909e-01],\n",
       "        [ 1.28379448e+00,  9.81377111e+00,  3.94158640e+00],\n",
       "        [ 1.33619414e+00,  8.72653333e+00,  7.25251752e+00],\n",
       "        [-5.41351721e+00, -6.77110511e+00,  3.54826121e+00],\n",
       "        [ 4.00053103e+00,  9.22591034e+00,  4.94173995e+00],\n",
       "        [-3.63556893e+00, -5.55820471e+00,  4.29641499e+00],\n",
       "        [-1.27335570e+00,  8.53418794e+00,  2.84091121e+00],\n",
       "        [-7.06463738e+00, -2.56166125e+00,  1.97510812e+00],\n",
       "        [-8.09734835e+00, -2.23276630e+00,  3.58903835e+00],\n",
       "        [-5.70176450e+00, -2.53988851e+00,  2.84608053e+00],\n",
       "        [-5.13072035e+00, -5.13025480e+00,  4.99988823e+00],\n",
       "        [-4.59193608e+00, -4.57772400e+00,  4.12287357e+00],\n",
       "        [-5.64235403e+00, -5.12183489e+00,  3.62572856e+00],\n",
       "        [-5.57015716e+00, -3.29895220e+00,  1.73365865e+00],\n",
       "        [-7.83938481e+00, -1.10916554e+00,  2.40144244e+00],\n",
       "        [-7.01135851e+00, -3.11866143e+00,  3.87727987e+00],\n",
       "        [-4.99594774e+00, -5.06341225e+00,  3.37740876e+00],\n",
       "        [-5.04494253e-01,  9.21475007e+00,  5.07154584e+00],\n",
       "        [-3.38572585e+00, -4.35246548e+00,  5.38680140e+00],\n",
       "        [-6.85386750e+00, -2.66752101e+00,  2.93085723e+00],\n",
       "        [-3.31354058e+00, -4.80389670e+00,  3.93457996e+00],\n",
       "        [-5.19075741e+00, -5.12851841e+00,  3.33729467e+00],\n",
       "        [-3.74990308e-01,  8.31565999e+00,  6.17157925e+00],\n",
       "        [-7.73200136e+00, -2.95484601e+00,  3.27677755e+00],\n",
       "        [ 4.78731699e-01,  8.85387535e+00,  5.90169765e+00],\n",
       "        [-7.14791574e+00, -1.84463530e+00,  4.53481533e+00],\n",
       "        [-7.27158108e+00, -3.64683855e-01,  1.99023117e+00],\n",
       "        [-4.30415486e+00, -6.39468296e+00,  2.16504817e+00],\n",
       "        [-5.64578001e+00, -6.66682085e+00,  5.34016520e+00],\n",
       "        [-7.40692032e-01,  9.80994056e+00,  4.94774233e+00],\n",
       "        [ 2.17452961e+00,  7.74678887e+00,  3.71915065e+00],\n",
       "        [-5.54149190e+00, -1.86105843e+00,  1.44297775e+00],\n",
       "        [ 4.31042298e-01,  7.85623268e+00,  4.36083676e+00],\n",
       "        [ 1.09051849e+00,  7.28035467e+00,  5.14085040e+00],\n",
       "        [-7.08906289e+00, -9.84451404e-01,  1.69595026e+00],\n",
       "        [ 7.05184565e-01,  7.93790788e+00,  5.56987142e+00],\n",
       "        [-6.11887814e+00, -1.05297306e+00,  2.02666244e+00],\n",
       "        [-5.79169232e+00, -2.41546965e+00,  2.60877878e+00],\n",
       "        [-3.78337251e+00, -5.68930274e+00,  5.08662466e+00],\n",
       "        [-6.97958162e+00, -2.50566883e+00,  3.44988840e+00],\n",
       "        [ 7.40382688e-01,  9.81794527e+00,  6.90226231e+00],\n",
       "        [-4.13903347e+00, -7.19701353e+00,  4.13646226e+00],\n",
       "        [ 9.76914238e-01,  8.87263745e+00,  4.49016898e+00],\n",
       "        [-1.01897863e-01,  8.15480928e+00,  5.08620688e+00],\n",
       "        [-5.25975692e+00, -6.16084174e+00,  3.19354809e+00],\n",
       "        [-1.07551539e-02,  9.78951673e+00,  4.75003032e+00],\n",
       "        [ 1.67831349e+00,  8.96317921e+00,  4.79288977e+00],\n",
       "        [-4.17679663e+00, -4.95454163e+00,  5.09730170e+00],\n",
       "        [-4.84974850e-01,  1.00192841e+01,  4.99407816e+00],\n",
       "        [-3.74260415e-01,  9.15167037e+00,  5.15428536e+00],\n",
       "        [ 2.80560988e+00,  9.37459467e+00,  5.44769176e+00],\n",
       "        [-5.61389472e-01,  7.41483295e+00,  5.71022077e+00],\n",
       "        [-8.89903897e-01,  8.80902700e+00,  7.53519171e+00],\n",
       "        [-3.88516446e+00, -4.16709771e+00,  3.23554334e+00],\n",
       "        [-5.28760070e+00, -1.36042834e+00,  3.03853279e+00],\n",
       "        [-8.58311161e+00, -1.17496818e+00,  3.57345279e+00],\n",
       "        [ 4.05700836e-01,  9.01534808e+00,  5.84908699e+00],\n",
       "        [ 1.57626352e+00,  8.67205448e+00,  4.68131887e+00],\n",
       "        [-9.37397101e-01,  9.16942338e+00,  5.34698904e+00],\n",
       "        [-1.56829201e-01,  9.73281112e+00,  5.09797511e+00],\n",
       "        [-7.43703004e+00, -3.88472773e+00,  4.43537940e+00],\n",
       "        [-7.69192727e+00, -1.59397507e+00,  4.54875532e+00],\n",
       "        [-3.34243440e+00, -4.95246767e+00,  4.89952819e+00],\n",
       "        [-6.12199722e+00, -7.43615794e+00,  1.68891042e+00],\n",
       "        [-6.57982586e+00, -4.92073705e+00,  4.21799036e+00],\n",
       "        [-2.96557562e+00, -5.26675762e+00,  4.15344678e+00],\n",
       "        [-6.69082996e+00, -2.37014276e+00, -7.29632066e-03],\n",
       "        [-4.50332579e+00, -6.20513229e+00,  4.09067675e+00],\n",
       "        [-6.40383242e+00, -4.71606435e+00,  4.54844397e+00],\n",
       "        [ 1.79465638e+00,  9.47907310e+00,  4.52105189e+00],\n",
       "        [-3.51908600e+00, -5.45058881e+00,  3.26326696e+00],\n",
       "        [-5.14235102e+00, -7.29348939e+00,  5.24518318e+00],\n",
       "        [-4.25548153e+00, -5.31234398e+00,  3.71394479e+00],\n",
       "        [-5.91740815e+00,  8.01540999e-01,  2.96256640e+00],\n",
       "        [-3.91963148e+00, -4.08450732e+00,  4.35933875e+00],\n",
       "        [-3.05345519e+00, -5.60583510e+00,  3.43226901e+00],\n",
       "        [ 1.55284971e+00,  9.61235900e+00,  6.49094871e+00],\n",
       "        [-5.74278531e-01,  9.00546091e+00,  4.25441729e+00],\n",
       "        [-6.02513978e+00, -2.72702181e+00,  1.70534004e+00],\n",
       "        [-4.84172755e+00, -2.29165188e+00,  1.09252546e+00],\n",
       "        [-7.89260225e+00, -1.34717346e+00,  3.86962416e+00],\n",
       "        [-7.09055670e+00, -2.18885715e+00,  3.10443184e+00],\n",
       "        [-1.00879258e+00,  9.38852880e+00,  5.26189707e+00],\n",
       "        [-5.07178622e+00, -7.00082296e+00,  2.28816065e+00],\n",
       "        [-7.58869178e+00, -2.76466115e+00,  8.54116729e-01],\n",
       "        [-4.71683705e+00, -5.84331599e+00,  3.48448598e+00],\n",
       "        [-4.72770511e+00, -5.00583753e+00,  5.21884109e+00],\n",
       "        [-1.76704870e+00,  7.38028212e+00,  4.25743583e+00],\n",
       "        [-4.74995667e+00, -4.38234250e+00,  3.42730073e+00],\n",
       "        [-5.06941634e+00, -7.72697671e+00,  3.88413402e+00],\n",
       "        [-7.72970375e+00, -2.19100374e+00,  1.98433547e+00],\n",
       "        [-4.75711555e+00, -3.49302014e+00,  2.12129965e+00],\n",
       "        [-1.88957868e+00, -7.21720821e+00,  3.26643814e+00],\n",
       "        [-4.99462357e+00, -4.99293808e+00,  4.43843279e+00],\n",
       "        [ 4.44457214e-01,  7.87034743e+00,  7.07777968e+00],\n",
       "        [-7.39213047e+00, -3.76185256e+00, -2.55382751e-01]]),\n",
       " array([0, 2, 0, 2, 2, 0, 0, 1, 0, 1, 0, 2, 2, 2, 1, 1, 1, 2, 2, 2, 1, 0,\n",
       "        1, 2, 1, 1, 0, 2, 0, 2, 2, 1, 1, 0, 0, 2, 0, 0, 2, 0, 2, 2, 1, 2,\n",
       "        0, 1, 0, 0, 1, 0, 0, 1, 0, 0, 0, 0, 0, 1, 2, 2, 0, 0, 0, 0, 2, 2,\n",
       "        1, 1, 1, 1, 2, 1, 2, 0, 1, 1, 1, 2, 1, 1, 0, 0, 2, 2, 2, 2, 0, 1,\n",
       "        2, 1, 1, 0, 1, 1, 2, 2, 1, 1, 0, 2]))"
      ]
     },
     "execution_count": 2,
     "metadata": {},
     "output_type": "execute_result"
    }
   ],
   "source": [
    "df=make_blobs( n_samples=100, n_features=3,random_state=23,cluster_std=1.0,shuffle=True,)\n",
    "df"
   ]
  },
  {
   "cell_type": "code",
   "execution_count": null,
   "id": "9453908d",
   "metadata": {},
   "outputs": [],
   "source": [
    "df1=pd.DataFrame(df.data,fe)"
   ]
  },
  {
   "cell_type": "markdown",
   "id": "b0bd1c02",
   "metadata": {},
   "source": [
    "### dataset features"
   ]
  },
  {
   "cell_type": "code",
   "execution_count": 3,
   "id": "f5ff5a74",
   "metadata": {},
   "outputs": [
    {
     "data": {
      "text/plain": [
       "array([[ 8.15747936e-01,  8.00803699e+00,  5.20013998e+00],\n",
       "       [-6.71138633e+00, -2.41691250e+00,  6.66880742e-01],\n",
       "       [ 2.70695989e-01,  7.67190858e+00,  7.32605274e+00],\n",
       "       [-6.94525382e+00, -2.70261674e+00,  3.47550721e+00],\n",
       "       [-4.90089493e+00, -2.42001347e+00,  7.47143909e-01],\n",
       "       [ 1.28379448e+00,  9.81377111e+00,  3.94158640e+00],\n",
       "       [ 1.33619414e+00,  8.72653333e+00,  7.25251752e+00],\n",
       "       [-5.41351721e+00, -6.77110511e+00,  3.54826121e+00],\n",
       "       [ 4.00053103e+00,  9.22591034e+00,  4.94173995e+00],\n",
       "       [-3.63556893e+00, -5.55820471e+00,  4.29641499e+00],\n",
       "       [-1.27335570e+00,  8.53418794e+00,  2.84091121e+00],\n",
       "       [-7.06463738e+00, -2.56166125e+00,  1.97510812e+00],\n",
       "       [-8.09734835e+00, -2.23276630e+00,  3.58903835e+00],\n",
       "       [-5.70176450e+00, -2.53988851e+00,  2.84608053e+00],\n",
       "       [-5.13072035e+00, -5.13025480e+00,  4.99988823e+00],\n",
       "       [-4.59193608e+00, -4.57772400e+00,  4.12287357e+00],\n",
       "       [-5.64235403e+00, -5.12183489e+00,  3.62572856e+00],\n",
       "       [-5.57015716e+00, -3.29895220e+00,  1.73365865e+00],\n",
       "       [-7.83938481e+00, -1.10916554e+00,  2.40144244e+00],\n",
       "       [-7.01135851e+00, -3.11866143e+00,  3.87727987e+00],\n",
       "       [-4.99594774e+00, -5.06341225e+00,  3.37740876e+00],\n",
       "       [-5.04494253e-01,  9.21475007e+00,  5.07154584e+00],\n",
       "       [-3.38572585e+00, -4.35246548e+00,  5.38680140e+00],\n",
       "       [-6.85386750e+00, -2.66752101e+00,  2.93085723e+00],\n",
       "       [-3.31354058e+00, -4.80389670e+00,  3.93457996e+00],\n",
       "       [-5.19075741e+00, -5.12851841e+00,  3.33729467e+00],\n",
       "       [-3.74990308e-01,  8.31565999e+00,  6.17157925e+00],\n",
       "       [-7.73200136e+00, -2.95484601e+00,  3.27677755e+00],\n",
       "       [ 4.78731699e-01,  8.85387535e+00,  5.90169765e+00],\n",
       "       [-7.14791574e+00, -1.84463530e+00,  4.53481533e+00],\n",
       "       [-7.27158108e+00, -3.64683855e-01,  1.99023117e+00],\n",
       "       [-4.30415486e+00, -6.39468296e+00,  2.16504817e+00],\n",
       "       [-5.64578001e+00, -6.66682085e+00,  5.34016520e+00],\n",
       "       [-7.40692032e-01,  9.80994056e+00,  4.94774233e+00],\n",
       "       [ 2.17452961e+00,  7.74678887e+00,  3.71915065e+00],\n",
       "       [-5.54149190e+00, -1.86105843e+00,  1.44297775e+00],\n",
       "       [ 4.31042298e-01,  7.85623268e+00,  4.36083676e+00],\n",
       "       [ 1.09051849e+00,  7.28035467e+00,  5.14085040e+00],\n",
       "       [-7.08906289e+00, -9.84451404e-01,  1.69595026e+00],\n",
       "       [ 7.05184565e-01,  7.93790788e+00,  5.56987142e+00],\n",
       "       [-6.11887814e+00, -1.05297306e+00,  2.02666244e+00],\n",
       "       [-5.79169232e+00, -2.41546965e+00,  2.60877878e+00],\n",
       "       [-3.78337251e+00, -5.68930274e+00,  5.08662466e+00],\n",
       "       [-6.97958162e+00, -2.50566883e+00,  3.44988840e+00],\n",
       "       [ 7.40382688e-01,  9.81794527e+00,  6.90226231e+00],\n",
       "       [-4.13903347e+00, -7.19701353e+00,  4.13646226e+00],\n",
       "       [ 9.76914238e-01,  8.87263745e+00,  4.49016898e+00],\n",
       "       [-1.01897863e-01,  8.15480928e+00,  5.08620688e+00],\n",
       "       [-5.25975692e+00, -6.16084174e+00,  3.19354809e+00],\n",
       "       [-1.07551539e-02,  9.78951673e+00,  4.75003032e+00],\n",
       "       [ 1.67831349e+00,  8.96317921e+00,  4.79288977e+00],\n",
       "       [-4.17679663e+00, -4.95454163e+00,  5.09730170e+00],\n",
       "       [-4.84974850e-01,  1.00192841e+01,  4.99407816e+00],\n",
       "       [-3.74260415e-01,  9.15167037e+00,  5.15428536e+00],\n",
       "       [ 2.80560988e+00,  9.37459467e+00,  5.44769176e+00],\n",
       "       [-5.61389472e-01,  7.41483295e+00,  5.71022077e+00],\n",
       "       [-8.89903897e-01,  8.80902700e+00,  7.53519171e+00],\n",
       "       [-3.88516446e+00, -4.16709771e+00,  3.23554334e+00],\n",
       "       [-5.28760070e+00, -1.36042834e+00,  3.03853279e+00],\n",
       "       [-8.58311161e+00, -1.17496818e+00,  3.57345279e+00],\n",
       "       [ 4.05700836e-01,  9.01534808e+00,  5.84908699e+00],\n",
       "       [ 1.57626352e+00,  8.67205448e+00,  4.68131887e+00],\n",
       "       [-9.37397101e-01,  9.16942338e+00,  5.34698904e+00],\n",
       "       [-1.56829201e-01,  9.73281112e+00,  5.09797511e+00],\n",
       "       [-7.43703004e+00, -3.88472773e+00,  4.43537940e+00],\n",
       "       [-7.69192727e+00, -1.59397507e+00,  4.54875532e+00],\n",
       "       [-3.34243440e+00, -4.95246767e+00,  4.89952819e+00],\n",
       "       [-6.12199722e+00, -7.43615794e+00,  1.68891042e+00],\n",
       "       [-6.57982586e+00, -4.92073705e+00,  4.21799036e+00],\n",
       "       [-2.96557562e+00, -5.26675762e+00,  4.15344678e+00],\n",
       "       [-6.69082996e+00, -2.37014276e+00, -7.29632066e-03],\n",
       "       [-4.50332579e+00, -6.20513229e+00,  4.09067675e+00],\n",
       "       [-6.40383242e+00, -4.71606435e+00,  4.54844397e+00],\n",
       "       [ 1.79465638e+00,  9.47907310e+00,  4.52105189e+00],\n",
       "       [-3.51908600e+00, -5.45058881e+00,  3.26326696e+00],\n",
       "       [-5.14235102e+00, -7.29348939e+00,  5.24518318e+00],\n",
       "       [-4.25548153e+00, -5.31234398e+00,  3.71394479e+00],\n",
       "       [-5.91740815e+00,  8.01540999e-01,  2.96256640e+00],\n",
       "       [-3.91963148e+00, -4.08450732e+00,  4.35933875e+00],\n",
       "       [-3.05345519e+00, -5.60583510e+00,  3.43226901e+00],\n",
       "       [ 1.55284971e+00,  9.61235900e+00,  6.49094871e+00],\n",
       "       [-5.74278531e-01,  9.00546091e+00,  4.25441729e+00],\n",
       "       [-6.02513978e+00, -2.72702181e+00,  1.70534004e+00],\n",
       "       [-4.84172755e+00, -2.29165188e+00,  1.09252546e+00],\n",
       "       [-7.89260225e+00, -1.34717346e+00,  3.86962416e+00],\n",
       "       [-7.09055670e+00, -2.18885715e+00,  3.10443184e+00],\n",
       "       [-1.00879258e+00,  9.38852880e+00,  5.26189707e+00],\n",
       "       [-5.07178622e+00, -7.00082296e+00,  2.28816065e+00],\n",
       "       [-7.58869178e+00, -2.76466115e+00,  8.54116729e-01],\n",
       "       [-4.71683705e+00, -5.84331599e+00,  3.48448598e+00],\n",
       "       [-4.72770511e+00, -5.00583753e+00,  5.21884109e+00],\n",
       "       [-1.76704870e+00,  7.38028212e+00,  4.25743583e+00],\n",
       "       [-4.74995667e+00, -4.38234250e+00,  3.42730073e+00],\n",
       "       [-5.06941634e+00, -7.72697671e+00,  3.88413402e+00],\n",
       "       [-7.72970375e+00, -2.19100374e+00,  1.98433547e+00],\n",
       "       [-4.75711555e+00, -3.49302014e+00,  2.12129965e+00],\n",
       "       [-1.88957868e+00, -7.21720821e+00,  3.26643814e+00],\n",
       "       [-4.99462357e+00, -4.99293808e+00,  4.43843279e+00],\n",
       "       [ 4.44457214e-01,  7.87034743e+00,  7.07777968e+00],\n",
       "       [-7.39213047e+00, -3.76185256e+00, -2.55382751e-01]])"
      ]
     },
     "execution_count": 3,
     "metadata": {},
     "output_type": "execute_result"
    }
   ],
   "source": [
    "df[0]"
   ]
  },
  {
   "cell_type": "code",
   "execution_count": 4,
   "id": "3c2a0659",
   "metadata": {},
   "outputs": [
    {
     "data": {
      "text/plain": [
       "array([0, 2, 0, 2, 2, 0, 0, 1, 0, 1, 0, 2, 2, 2, 1, 1, 1, 2, 2, 2, 1, 0,\n",
       "       1, 2, 1, 1, 0, 2, 0, 2, 2, 1, 1, 0, 0, 2, 0, 0, 2, 0, 2, 2, 1, 2,\n",
       "       0, 1, 0, 0, 1, 0, 0, 1, 0, 0, 0, 0, 0, 1, 2, 2, 0, 0, 0, 0, 2, 2,\n",
       "       1, 1, 1, 1, 2, 1, 2, 0, 1, 1, 1, 2, 1, 1, 0, 0, 2, 2, 2, 2, 0, 1,\n",
       "       2, 1, 1, 0, 1, 1, 2, 2, 1, 1, 0, 2])"
      ]
     },
     "execution_count": 4,
     "metadata": {},
     "output_type": "execute_result"
    }
   ],
   "source": [
    "df[1]"
   ]
  },
  {
   "cell_type": "code",
   "execution_count": 5,
   "id": "511a86f9",
   "metadata": {},
   "outputs": [
    {
     "data": {
      "text/plain": [
       "['__add__',\n",
       " '__class__',\n",
       " '__contains__',\n",
       " '__delattr__',\n",
       " '__dir__',\n",
       " '__doc__',\n",
       " '__eq__',\n",
       " '__format__',\n",
       " '__ge__',\n",
       " '__getattribute__',\n",
       " '__getitem__',\n",
       " '__getnewargs__',\n",
       " '__gt__',\n",
       " '__hash__',\n",
       " '__init__',\n",
       " '__init_subclass__',\n",
       " '__iter__',\n",
       " '__le__',\n",
       " '__len__',\n",
       " '__lt__',\n",
       " '__mul__',\n",
       " '__ne__',\n",
       " '__new__',\n",
       " '__reduce__',\n",
       " '__reduce_ex__',\n",
       " '__repr__',\n",
       " '__rmul__',\n",
       " '__setattr__',\n",
       " '__sizeof__',\n",
       " '__str__',\n",
       " '__subclasshook__',\n",
       " 'count',\n",
       " 'index']"
      ]
     },
     "execution_count": 5,
     "metadata": {},
     "output_type": "execute_result"
    }
   ],
   "source": [
    "dir(df)"
   ]
  },
  {
   "cell_type": "code",
   "execution_count": 6,
   "id": "2101bf1a",
   "metadata": {},
   "outputs": [
    {
     "name": "stdout",
     "output_type": "stream",
     "text": [
      "[ 0.81574794 -6.71138633  0.27069599 -6.94525382 -4.90089493  1.28379448\n",
      "  1.33619414 -5.41351721  4.00053103 -3.63556893 -1.2733557  -7.06463738\n",
      " -8.09734835 -5.7017645  -5.13072035 -4.59193608 -5.64235403 -5.57015716\n",
      " -7.83938481 -7.01135851 -4.99594774 -0.50449425 -3.38572585 -6.8538675\n",
      " -3.31354058 -5.19075741 -0.37499031 -7.73200136  0.4787317  -7.14791574\n",
      " -7.27158108 -4.30415486 -5.64578001 -0.74069203  2.17452961 -5.5414919\n",
      "  0.4310423   1.09051849 -7.08906289  0.70518457 -6.11887814 -5.79169232\n",
      " -3.78337251 -6.97958162  0.74038269 -4.13903347  0.97691424 -0.10189786\n",
      " -5.25975692 -0.01075515  1.67831349 -4.17679663 -0.48497485 -0.37426042\n",
      "  2.80560988 -0.56138947 -0.8899039  -3.88516446 -5.2876007  -8.58311161\n",
      "  0.40570084  1.57626352 -0.9373971  -0.1568292  -7.43703004 -7.69192727\n",
      " -3.3424344  -6.12199722 -6.57982586 -2.96557562 -6.69082996 -4.50332579\n",
      " -6.40383242  1.79465638 -3.519086   -5.14235102 -4.25548153 -5.91740815\n",
      " -3.91963148 -3.05345519  1.55284971 -0.57427853 -6.02513978 -4.84172755\n",
      " -7.89260225 -7.0905567  -1.00879258 -5.07178622 -7.58869178 -4.71683705\n",
      " -4.72770511 -1.7670487  -4.74995667 -5.06941634 -7.72970375 -4.75711555\n",
      " -1.88957868 -4.99462357  0.44445721 -7.39213047]\n",
      "[ 8.00803699 -2.4169125   7.67190858 -2.70261674 -2.42001347  9.81377111\n",
      "  8.72653333 -6.77110511  9.22591034 -5.55820471  8.53418794 -2.56166125\n",
      " -2.2327663  -2.53988851 -5.1302548  -4.577724   -5.12183489 -3.2989522\n",
      " -1.10916554 -3.11866143 -5.06341225  9.21475007 -4.35246548 -2.66752101\n",
      " -4.8038967  -5.12851841  8.31565999 -2.95484601  8.85387535 -1.8446353\n",
      " -0.36468386 -6.39468296 -6.66682085  9.80994056  7.74678887 -1.86105843\n",
      "  7.85623268  7.28035467 -0.9844514   7.93790788 -1.05297306 -2.41546965\n",
      " -5.68930274 -2.50566883  9.81794527 -7.19701353  8.87263745  8.15480928\n",
      " -6.16084174  9.78951673  8.96317921 -4.95454163 10.01928407  9.15167037\n",
      "  9.37459467  7.41483295  8.809027   -4.16709771 -1.36042834 -1.17496818\n",
      "  9.01534808  8.67205448  9.16942338  9.73281112 -3.88472773 -1.59397507\n",
      " -4.95246767 -7.43615794 -4.92073705 -5.26675762 -2.37014276 -6.20513229\n",
      " -4.71606435  9.4790731  -5.45058881 -7.29348939 -5.31234398  0.801541\n",
      " -4.08450732 -5.6058351   9.612359    9.00546091 -2.72702181 -2.29165188\n",
      " -1.34717346 -2.18885715  9.3885288  -7.00082296 -2.76466115 -5.84331599\n",
      " -5.00583753  7.38028212 -4.3823425  -7.72697671 -2.19100374 -3.49302014\n",
      " -7.21720821 -4.99293808  7.87034743 -3.76185256]\n",
      "[ 5.20013998e+00  6.66880742e-01  7.32605274e+00  3.47550721e+00\n",
      "  7.47143909e-01  3.94158640e+00  7.25251752e+00  3.54826121e+00\n",
      "  4.94173995e+00  4.29641499e+00  2.84091121e+00  1.97510812e+00\n",
      "  3.58903835e+00  2.84608053e+00  4.99988823e+00  4.12287357e+00\n",
      "  3.62572856e+00  1.73365865e+00  2.40144244e+00  3.87727987e+00\n",
      "  3.37740876e+00  5.07154584e+00  5.38680140e+00  2.93085723e+00\n",
      "  3.93457996e+00  3.33729467e+00  6.17157925e+00  3.27677755e+00\n",
      "  5.90169765e+00  4.53481533e+00  1.99023117e+00  2.16504817e+00\n",
      "  5.34016520e+00  4.94774233e+00  3.71915065e+00  1.44297775e+00\n",
      "  4.36083676e+00  5.14085040e+00  1.69595026e+00  5.56987142e+00\n",
      "  2.02666244e+00  2.60877878e+00  5.08662466e+00  3.44988840e+00\n",
      "  6.90226231e+00  4.13646226e+00  4.49016898e+00  5.08620688e+00\n",
      "  3.19354809e+00  4.75003032e+00  4.79288977e+00  5.09730170e+00\n",
      "  4.99407816e+00  5.15428536e+00  5.44769176e+00  5.71022077e+00\n",
      "  7.53519171e+00  3.23554334e+00  3.03853279e+00  3.57345279e+00\n",
      "  5.84908699e+00  4.68131887e+00  5.34698904e+00  5.09797511e+00\n",
      "  4.43537940e+00  4.54875532e+00  4.89952819e+00  1.68891042e+00\n",
      "  4.21799036e+00  4.15344678e+00 -7.29632066e-03  4.09067675e+00\n",
      "  4.54844397e+00  4.52105189e+00  3.26326696e+00  5.24518318e+00\n",
      "  3.71394479e+00  2.96256640e+00  4.35933875e+00  3.43226901e+00\n",
      "  6.49094871e+00  4.25441729e+00  1.70534004e+00  1.09252546e+00\n",
      "  3.86962416e+00  3.10443184e+00  5.26189707e+00  2.28816065e+00\n",
      "  8.54116729e-01  3.48448598e+00  5.21884109e+00  4.25743583e+00\n",
      "  3.42730073e+00  3.88413402e+00  1.98433547e+00  2.12129965e+00\n",
      "  3.26643814e+00  4.43843279e+00  7.07777968e+00 -2.55382751e-01]\n"
     ]
    }
   ],
   "source": [
    "feature=df[0]\n",
    "features=df[0][:,0]\n",
    "print(features)\n",
    "features1=df[0][:,1]\n",
    "print(features1)\n",
    "features2=df[0][:,2]\n",
    "print(features2)"
   ]
  },
  {
   "cell_type": "markdown",
   "id": "f0ed1639",
   "metadata": {},
   "source": [
    "### k means(clustering)"
   ]
  },
  {
   "cell_type": "code",
   "execution_count": 28,
   "id": "42e59fd3",
   "metadata": {},
   "outputs": [
    {
     "data": {
      "text/plain": [
       "KMeans(n_clusters=5)"
      ]
     },
     "execution_count": 28,
     "metadata": {},
     "output_type": "execute_result"
    }
   ],
   "source": [
    "from sklearn.cluster import KMeans\n",
    "model=KMeans( n_clusters=5)\n",
    "model.fit(feature)\n"
   ]
  },
  {
   "cell_type": "code",
   "execution_count": 8,
   "id": "4f6e1a15",
   "metadata": {},
   "outputs": [
    {
     "data": {
      "text/plain": [
       "<matplotlib.collections.PathCollection at 0x27b3059f8e0>"
      ]
     },
     "execution_count": 8,
     "metadata": {},
     "output_type": "execute_result"
    },
    {
     "data": {
      "image/png": "[encoded data removed]",
      "text/plain": [
       "<Figure size 432x288 with 1 Axes>"
      ]
     },
     "metadata": {
      "needs_background": "light"
     },
     "output_type": "display_data"
    }
   ],
   "source": [
    "plt.scatter(df[0][:,0],df[0][:,1])"
   ]
  },
  {
   "cell_type": "code",
   "execution_count": 9,
   "id": "5d36d848",
   "metadata": {},
   "outputs": [
    {
     "data": {
      "text/plain": [
       "array([[ 1.29274306,  8.67362413,  5.45303381],\n",
       "       [-7.38878953, -1.94248308,  3.37527393],\n",
       "       [-4.51532433, -5.62209532,  3.95602169],\n",
       "       [-0.65073734,  8.92601235,  5.09870041],\n",
       "       [-6.06707508, -2.39500994,  1.51827355]])"
      ]
     },
     "execution_count": 9,
     "metadata": {},
     "output_type": "execute_result"
    }
   ],
   "source": [
    "model.cluster_centers_"
   ]
  },
  {
   "cell_type": "code",
   "execution_count": 10,
   "id": "df57a554",
   "metadata": {},
   "outputs": [
    {
     "data": {
      "text/plain": [
       "246.119018982027"
      ]
     },
     "execution_count": 10,
     "metadata": {},
     "output_type": "execute_result"
    }
   ],
   "source": [
    "model.inertia_"
   ]
  },
  {
   "cell_type": "code",
   "execution_count": 11,
   "id": "59245b28",
   "metadata": {},
   "outputs": [
    {
     "data": {
      "text/plain": [
       "array([3, 2, 3, 4, 2, 0, 3, 1, 0, 1, 3, 2, 4, 2, 1, 1, 1, 2, 4, 4, 1, 3,\n",
       "       1, 4, 1, 1, 3, 4, 3, 4, 2, 1, 1, 3, 0, 2, 3, 3, 2, 3, 2, 2, 1, 4,\n",
       "       3, 1, 0, 3, 1, 3, 0, 1, 3, 3, 0, 3, 3, 1, 2, 4, 3, 0, 3, 3, 4, 4,\n",
       "       1, 1, 1, 1, 2, 1, 1, 0, 1, 1, 1, 2, 1, 1, 0, 3, 2, 2, 4, 4, 3, 1,\n",
       "       2, 1, 1, 3, 1, 1, 2, 2, 1, 1, 3, 2])"
      ]
     },
     "execution_count": 11,
     "metadata": {},
     "output_type": "execute_result"
    }
   ],
   "source": [
    "model.fit_predict(feature)"
   ]
  },
  {
   "cell_type": "code",
   "execution_count": 12,
   "id": "b6ef3caf",
   "metadata": {},
   "outputs": [
    {
     "name": "stderr",
     "output_type": "stream",
     "text": [
      "C:\\Users\\63094\\anaconda3\\lib\\site-packages\\sklearn\\cluster\\_kmeans.py:881: UserWarning: KMeans is known to have a memory leak on Windows with MKL, when there are less chunks than available threads. You can avoid it by setting the environment variable OMP_NUM_THREADS=1.\n",
      "  warnings.warn(\n"
     ]
    }
   ],
   "source": [
    "k_rng=range(1,10)\n",
    "inertia=[]\n",
    "for k in k_rng:\n",
    "    model=KMeans(n_clusters=k)\n",
    "    model.fit(feature)\n",
    "    inertia.append(model.inertia_)"
   ]
  },
  {
   "cell_type": "code",
   "execution_count": 13,
   "id": "07f6adc9",
   "metadata": {},
   "outputs": [
    {
     "data": {
      "text/plain": [
       "[5185.974142226364,\n",
       " 637.4132599896287,\n",
       " 322.5677963891135,\n",
       " 279.69231870125924,\n",
       " 246.35801065397422,\n",
       " 214.90426967969674,\n",
       " 191.87895037882717,\n",
       " 174.23050243344687,\n",
       " 154.2755048499412]"
      ]
     },
     "execution_count": 13,
     "metadata": {},
     "output_type": "execute_result"
    }
   ],
   "source": [
    "inertia"
   ]
  },
  {
   "cell_type": "code",
   "execution_count": 14,
   "id": "3183ea47",
   "metadata": {},
   "outputs": [
    {
     "data": {
      "text/plain": [
       "[<matplotlib.lines.Line2D at 0x27b30b237f0>]"
      ]
     },
     "execution_count": 14,
     "metadata": {},
     "output_type": "execute_result"
    },
    {
     "data": {
      "image/png": "[encoded data removed]",
      "text/plain": [
       "<Figure size 432x288 with 1 Axes>"
      ]
     },
     "metadata": {
      "needs_background": "light"
     },
     "output_type": "display_data"
    }
   ],
   "source": [
    "plt.xlabel('k_rng')\n",
    "plt.ylabel('sse')\n",
    "plt.plot(k_rng,inertia)"
   ]
  },
  {
   "cell_type": "markdown",
   "id": "574e1349",
   "metadata": {},
   "source": [
    "### from taking second elbow k=3"
   ]
  },
  {
   "cell_type": "code",
   "execution_count": 29,
   "id": "8657324f",
   "metadata": {},
   "outputs": [
    {
     "data": {
      "text/plain": [
       "KMeans(n_clusters=3)"
      ]
     },
     "execution_count": 29,
     "metadata": {},
     "output_type": "execute_result"
    }
   ],
   "source": [
    "model_2=KMeans(n_clusters=3)\n",
    "model_2.fit(feature)\n",
    "\n"
   ]
  },
  {
   "cell_type": "code",
   "execution_count": 31,
   "id": "b11e4cd9",
   "metadata": {},
   "outputs": [
    {
     "data": {
      "text/plain": [
       "array([0, 2, 0, 2, 2, 0, 0, 1, 0, 1, 0, 2, 2, 2, 1, 1, 1, 2, 2, 2, 1, 0,\n",
       "       1, 2, 1, 1, 0, 2, 0, 2, 2, 1, 1, 0, 0, 2, 0, 0, 2, 0, 2, 2, 1, 2,\n",
       "       0, 1, 0, 0, 1, 0, 0, 1, 0, 0, 0, 0, 0, 1, 2, 2, 0, 0, 0, 0, 2, 2,\n",
       "       1, 1, 1, 1, 2, 1, 1, 0, 1, 1, 1, 2, 1, 1, 0, 0, 2, 2, 2, 2, 0, 1,\n",
       "       2, 1, 1, 0, 1, 1, 2, 2, 1, 1, 0, 2])"
      ]
     },
     "execution_count": 31,
     "metadata": {},
     "output_type": "execute_result"
    }
   ],
   "source": [
    "y_pred=model_2.fit_predict(feature)\n",
    "y_pred"
   ]
  },
  {
   "cell_type": "code",
   "execution_count": 33,
   "id": "9602ced0",
   "metadata": {},
   "outputs": [
    {
     "data": {
      "text/plain": [
       "322.5677963891135"
      ]
     },
     "execution_count": 33,
     "metadata": {},
     "output_type": "execute_result"
    }
   ],
   "source": [
    "model_2.inertia_"
   ]
  },
  {
   "cell_type": "code",
   "execution_count": 34,
   "id": "be6a1cac",
   "metadata": {},
   "outputs": [
    {
     "data": {
      "text/plain": [
       "array([[ 0.43532524,  8.78497188,  5.29671025],\n",
       "       [-4.51532433, -5.62209532,  3.95602169],\n",
       "       [-6.72793231, -2.16874651,  2.44677374]])"
      ]
     },
     "execution_count": 34,
     "metadata": {},
     "output_type": "execute_result"
    }
   ],
   "source": [
    "model_2.cluster_centers_"
   ]
  },
  {
   "cell_type": "code",
   "execution_count": 37,
   "id": "2bfa7008",
   "metadata": {},
   "outputs": [
    {
     "data": {
      "text/plain": [
       "<bound method KMeans.score of KMeans(n_clusters=3)>"
      ]
     },
     "execution_count": 37,
     "metadata": {},
     "output_type": "execute_result"
    }
   ],
   "source": [
    "model_2.score"
   ]
  },
  {
   "cell_type": "markdown",
   "id": "53b5ed3f",
   "metadata": {},
   "source": [
    "### subsetting the arrays in the dataset"
   ]
  },
  {
   "cell_type": "code",
   "execution_count": 43,
   "id": "8242e1b7",
   "metadata": {},
   "outputs": [
    {
     "data": {
      "text/plain": [
       "array([[ 8.15747936e-01,  8.00803699e+00,  5.20013998e+00],\n",
       "       [-6.71138633e+00, -2.41691250e+00,  6.66880742e-01],\n",
       "       [ 2.70695989e-01,  7.67190858e+00,  7.32605274e+00],\n",
       "       [-6.94525382e+00, -2.70261674e+00,  3.47550721e+00],\n",
       "       [-4.90089493e+00, -2.42001347e+00,  7.47143909e-01],\n",
       "       [ 1.28379448e+00,  9.81377111e+00,  3.94158640e+00],\n",
       "       [ 1.33619414e+00,  8.72653333e+00,  7.25251752e+00],\n",
       "       [-5.41351721e+00, -6.77110511e+00,  3.54826121e+00],\n",
       "       [ 4.00053103e+00,  9.22591034e+00,  4.94173995e+00],\n",
       "       [-3.63556893e+00, -5.55820471e+00,  4.29641499e+00],\n",
       "       [-1.27335570e+00,  8.53418794e+00,  2.84091121e+00],\n",
       "       [-7.06463738e+00, -2.56166125e+00,  1.97510812e+00],\n",
       "       [-8.09734835e+00, -2.23276630e+00,  3.58903835e+00],\n",
       "       [-5.70176450e+00, -2.53988851e+00,  2.84608053e+00],\n",
       "       [-5.13072035e+00, -5.13025480e+00,  4.99988823e+00],\n",
       "       [-4.59193608e+00, -4.57772400e+00,  4.12287357e+00],\n",
       "       [-5.64235403e+00, -5.12183489e+00,  3.62572856e+00],\n",
       "       [-5.57015716e+00, -3.29895220e+00,  1.73365865e+00],\n",
       "       [-7.83938481e+00, -1.10916554e+00,  2.40144244e+00],\n",
       "       [-7.01135851e+00, -3.11866143e+00,  3.87727987e+00],\n",
       "       [-4.99594774e+00, -5.06341225e+00,  3.37740876e+00],\n",
       "       [-5.04494253e-01,  9.21475007e+00,  5.07154584e+00],\n",
       "       [-3.38572585e+00, -4.35246548e+00,  5.38680140e+00],\n",
       "       [-6.85386750e+00, -2.66752101e+00,  2.93085723e+00],\n",
       "       [-3.31354058e+00, -4.80389670e+00,  3.93457996e+00],\n",
       "       [-5.19075741e+00, -5.12851841e+00,  3.33729467e+00],\n",
       "       [-3.74990308e-01,  8.31565999e+00,  6.17157925e+00],\n",
       "       [-7.73200136e+00, -2.95484601e+00,  3.27677755e+00],\n",
       "       [ 4.78731699e-01,  8.85387535e+00,  5.90169765e+00],\n",
       "       [-7.14791574e+00, -1.84463530e+00,  4.53481533e+00],\n",
       "       [-7.27158108e+00, -3.64683855e-01,  1.99023117e+00],\n",
       "       [-4.30415486e+00, -6.39468296e+00,  2.16504817e+00],\n",
       "       [-5.64578001e+00, -6.66682085e+00,  5.34016520e+00],\n",
       "       [-7.40692032e-01,  9.80994056e+00,  4.94774233e+00],\n",
       "       [ 2.17452961e+00,  7.74678887e+00,  3.71915065e+00],\n",
       "       [-5.54149190e+00, -1.86105843e+00,  1.44297775e+00],\n",
       "       [ 4.31042298e-01,  7.85623268e+00,  4.36083676e+00],\n",
       "       [ 1.09051849e+00,  7.28035467e+00,  5.14085040e+00],\n",
       "       [-7.08906289e+00, -9.84451404e-01,  1.69595026e+00],\n",
       "       [ 7.05184565e-01,  7.93790788e+00,  5.56987142e+00],\n",
       "       [-6.11887814e+00, -1.05297306e+00,  2.02666244e+00],\n",
       "       [-5.79169232e+00, -2.41546965e+00,  2.60877878e+00],\n",
       "       [-3.78337251e+00, -5.68930274e+00,  5.08662466e+00],\n",
       "       [-6.97958162e+00, -2.50566883e+00,  3.44988840e+00],\n",
       "       [ 7.40382688e-01,  9.81794527e+00,  6.90226231e+00],\n",
       "       [-4.13903347e+00, -7.19701353e+00,  4.13646226e+00],\n",
       "       [ 9.76914238e-01,  8.87263745e+00,  4.49016898e+00],\n",
       "       [-1.01897863e-01,  8.15480928e+00,  5.08620688e+00],\n",
       "       [-5.25975692e+00, -6.16084174e+00,  3.19354809e+00],\n",
       "       [-1.07551539e-02,  9.78951673e+00,  4.75003032e+00],\n",
       "       [ 1.67831349e+00,  8.96317921e+00,  4.79288977e+00],\n",
       "       [-4.17679663e+00, -4.95454163e+00,  5.09730170e+00],\n",
       "       [-4.84974850e-01,  1.00192841e+01,  4.99407816e+00],\n",
       "       [-3.74260415e-01,  9.15167037e+00,  5.15428536e+00],\n",
       "       [ 2.80560988e+00,  9.37459467e+00,  5.44769176e+00],\n",
       "       [-5.61389472e-01,  7.41483295e+00,  5.71022077e+00],\n",
       "       [-8.89903897e-01,  8.80902700e+00,  7.53519171e+00],\n",
       "       [-3.88516446e+00, -4.16709771e+00,  3.23554334e+00],\n",
       "       [-5.28760070e+00, -1.36042834e+00,  3.03853279e+00],\n",
       "       [-8.58311161e+00, -1.17496818e+00,  3.57345279e+00],\n",
       "       [ 4.05700836e-01,  9.01534808e+00,  5.84908699e+00],\n",
       "       [ 1.57626352e+00,  8.67205448e+00,  4.68131887e+00],\n",
       "       [-9.37397101e-01,  9.16942338e+00,  5.34698904e+00],\n",
       "       [-1.56829201e-01,  9.73281112e+00,  5.09797511e+00],\n",
       "       [-7.43703004e+00, -3.88472773e+00,  4.43537940e+00],\n",
       "       [-7.69192727e+00, -1.59397507e+00,  4.54875532e+00],\n",
       "       [-3.34243440e+00, -4.95246767e+00,  4.89952819e+00],\n",
       "       [-6.12199722e+00, -7.43615794e+00,  1.68891042e+00],\n",
       "       [-6.57982586e+00, -4.92073705e+00,  4.21799036e+00],\n",
       "       [-2.96557562e+00, -5.26675762e+00,  4.15344678e+00],\n",
       "       [-6.69082996e+00, -2.37014276e+00, -7.29632066e-03],\n",
       "       [-4.50332579e+00, -6.20513229e+00,  4.09067675e+00],\n",
       "       [-6.40383242e+00, -4.71606435e+00,  4.54844397e+00],\n",
       "       [ 1.79465638e+00,  9.47907310e+00,  4.52105189e+00],\n",
       "       [-3.51908600e+00, -5.45058881e+00,  3.26326696e+00],\n",
       "       [-5.14235102e+00, -7.29348939e+00,  5.24518318e+00],\n",
       "       [-4.25548153e+00, -5.31234398e+00,  3.71394479e+00],\n",
       "       [-5.91740815e+00,  8.01540999e-01,  2.96256640e+00],\n",
       "       [-3.91963148e+00, -4.08450732e+00,  4.35933875e+00],\n",
       "       [-3.05345519e+00, -5.60583510e+00,  3.43226901e+00],\n",
       "       [ 1.55284971e+00,  9.61235900e+00,  6.49094871e+00],\n",
       "       [-5.74278531e-01,  9.00546091e+00,  4.25441729e+00],\n",
       "       [-6.02513978e+00, -2.72702181e+00,  1.70534004e+00],\n",
       "       [-4.84172755e+00, -2.29165188e+00,  1.09252546e+00],\n",
       "       [-7.89260225e+00, -1.34717346e+00,  3.86962416e+00],\n",
       "       [-7.09055670e+00, -2.18885715e+00,  3.10443184e+00],\n",
       "       [-1.00879258e+00,  9.38852880e+00,  5.26189707e+00],\n",
       "       [-5.07178622e+00, -7.00082296e+00,  2.28816065e+00],\n",
       "       [-7.58869178e+00, -2.76466115e+00,  8.54116729e-01],\n",
       "       [-4.71683705e+00, -5.84331599e+00,  3.48448598e+00],\n",
       "       [-4.72770511e+00, -5.00583753e+00,  5.21884109e+00],\n",
       "       [-1.76704870e+00,  7.38028212e+00,  4.25743583e+00],\n",
       "       [-4.74995667e+00, -4.38234250e+00,  3.42730073e+00],\n",
       "       [-5.06941634e+00, -7.72697671e+00,  3.88413402e+00],\n",
       "       [-7.72970375e+00, -2.19100374e+00,  1.98433547e+00],\n",
       "       [-4.75711555e+00, -3.49302014e+00,  2.12129965e+00],\n",
       "       [-1.88957868e+00, -7.21720821e+00,  3.26643814e+00],\n",
       "       [-4.99462357e+00, -4.99293808e+00,  4.43843279e+00],\n",
       "       [ 4.44457214e-01,  7.87034743e+00,  7.07777968e+00],\n",
       "       [-7.39213047e+00, -3.76185256e+00, -2.55382751e-01]])"
      ]
     },
     "execution_count": 43,
     "metadata": {},
     "output_type": "execute_result"
    }
   ],
   "source": [
    "feature"
   ]
  },
  {
   "cell_type": "code",
   "execution_count": 39,
   "id": "a8686052",
   "metadata": {},
   "outputs": [
    {
     "data": {
      "text/plain": [
       "array([ 0.81574794,  0.27069599,  1.28379448,  1.33619414,  4.00053103,\n",
       "       -1.2733557 , -0.50449425, -0.37499031,  0.4787317 , -0.74069203,\n",
       "        2.17452961,  0.4310423 ,  1.09051849,  0.70518457,  0.74038269,\n",
       "        0.97691424, -0.10189786, -0.01075515,  1.67831349, -0.48497485,\n",
       "       -0.37426042,  2.80560988, -0.56138947, -0.8899039 ,  0.40570084,\n",
       "        1.57626352, -0.9373971 , -0.1568292 ,  1.79465638,  1.55284971,\n",
       "       -0.57427853, -1.00879258, -1.7670487 ,  0.44445721])"
      ]
     },
     "execution_count": 39,
     "metadata": {},
     "output_type": "execute_result"
    }
   ],
   "source": [
    "feature[y_pred==0,0]"
   ]
  },
  {
   "cell_type": "code",
   "execution_count": 42,
   "id": "54d14f7e",
   "metadata": {
    "scrolled": true
   },
   "outputs": [
    {
     "data": {
      "text/plain": [
       "array([ 8.00803699,  7.67190858,  9.81377111,  8.72653333,  9.22591034,\n",
       "        8.53418794,  9.21475007,  8.31565999,  8.85387535,  9.80994056,\n",
       "        7.74678887,  7.85623268,  7.28035467,  7.93790788,  9.81794527,\n",
       "        8.87263745,  8.15480928,  9.78951673,  8.96317921, 10.01928407,\n",
       "        9.15167037,  9.37459467,  7.41483295,  8.809027  ,  9.01534808,\n",
       "        8.67205448,  9.16942338,  9.73281112,  9.4790731 ,  9.612359  ,\n",
       "        9.00546091,  9.3885288 ,  7.38028212,  7.87034743])"
      ]
     },
     "execution_count": 42,
     "metadata": {},
     "output_type": "execute_result"
    }
   ],
   "source": [
    "feature[y_pred==0,1]"
   ]
  },
  {
   "cell_type": "code",
   "execution_count": 44,
   "id": "3bbeca3c",
   "metadata": {},
   "outputs": [
    {
     "data": {
      "text/plain": [
       "array([-5.41351721, -3.63556893, -5.13072035, -4.59193608, -5.64235403,\n",
       "       -4.99594774, -3.38572585, -3.31354058, -5.19075741, -4.30415486,\n",
       "       -5.64578001, -3.78337251, -4.13903347, -5.25975692, -4.17679663,\n",
       "       -3.88516446, -3.3424344 , -6.12199722, -6.57982586, -2.96557562,\n",
       "       -4.50332579, -6.40383242, -3.519086  , -5.14235102, -4.25548153,\n",
       "       -3.91963148, -3.05345519, -5.07178622, -4.71683705, -4.72770511,\n",
       "       -4.74995667, -5.06941634, -1.88957868, -4.99462357])"
      ]
     },
     "execution_count": 44,
     "metadata": {},
     "output_type": "execute_result"
    }
   ],
   "source": [
    "feature[y_pred==1,0]"
   ]
  },
  {
   "cell_type": "code",
   "execution_count": 49,
   "id": "2007edc7",
   "metadata": {},
   "outputs": [
    {
     "data": {
      "text/plain": [
       "array([-6.77110511, -5.55820471, -5.1302548 , -4.577724  , -5.12183489,\n",
       "       -5.06341225, -4.35246548, -4.8038967 , -5.12851841, -6.39468296,\n",
       "       -6.66682085, -5.68930274, -7.19701353, -6.16084174, -4.95454163,\n",
       "       -4.16709771, -4.95246767, -7.43615794, -4.92073705, -5.26675762,\n",
       "       -6.20513229, -4.71606435, -5.45058881, -7.29348939, -5.31234398,\n",
       "       -4.08450732, -5.6058351 , -7.00082296, -5.84331599, -5.00583753,\n",
       "       -4.3823425 , -7.72697671, -7.21720821, -4.99293808])"
      ]
     },
     "execution_count": 49,
     "metadata": {},
     "output_type": "execute_result"
    }
   ],
   "source": [
    "feature[y_pred==1,1]"
   ]
  },
  {
   "cell_type": "code",
   "execution_count": 47,
   "id": "b7732179",
   "metadata": {},
   "outputs": [
    {
     "data": {
      "text/plain": [
       "array([[ 8.15747936e-01,  8.00803699e+00,  5.20013998e+00],\n",
       "       [-6.71138633e+00, -2.41691250e+00,  6.66880742e-01],\n",
       "       [ 2.70695989e-01,  7.67190858e+00,  7.32605274e+00],\n",
       "       [-6.94525382e+00, -2.70261674e+00,  3.47550721e+00],\n",
       "       [-4.90089493e+00, -2.42001347e+00,  7.47143909e-01],\n",
       "       [ 1.28379448e+00,  9.81377111e+00,  3.94158640e+00],\n",
       "       [ 1.33619414e+00,  8.72653333e+00,  7.25251752e+00],\n",
       "       [-5.41351721e+00, -6.77110511e+00,  3.54826121e+00],\n",
       "       [ 4.00053103e+00,  9.22591034e+00,  4.94173995e+00],\n",
       "       [-3.63556893e+00, -5.55820471e+00,  4.29641499e+00],\n",
       "       [-1.27335570e+00,  8.53418794e+00,  2.84091121e+00],\n",
       "       [-7.06463738e+00, -2.56166125e+00,  1.97510812e+00],\n",
       "       [-8.09734835e+00, -2.23276630e+00,  3.58903835e+00],\n",
       "       [-5.70176450e+00, -2.53988851e+00,  2.84608053e+00],\n",
       "       [-5.13072035e+00, -5.13025480e+00,  4.99988823e+00],\n",
       "       [-4.59193608e+00, -4.57772400e+00,  4.12287357e+00],\n",
       "       [-5.64235403e+00, -5.12183489e+00,  3.62572856e+00],\n",
       "       [-5.57015716e+00, -3.29895220e+00,  1.73365865e+00],\n",
       "       [-7.83938481e+00, -1.10916554e+00,  2.40144244e+00],\n",
       "       [-7.01135851e+00, -3.11866143e+00,  3.87727987e+00],\n",
       "       [-4.99594774e+00, -5.06341225e+00,  3.37740876e+00],\n",
       "       [-5.04494253e-01,  9.21475007e+00,  5.07154584e+00],\n",
       "       [-3.38572585e+00, -4.35246548e+00,  5.38680140e+00],\n",
       "       [-6.85386750e+00, -2.66752101e+00,  2.93085723e+00],\n",
       "       [-3.31354058e+00, -4.80389670e+00,  3.93457996e+00],\n",
       "       [-5.19075741e+00, -5.12851841e+00,  3.33729467e+00],\n",
       "       [-3.74990308e-01,  8.31565999e+00,  6.17157925e+00],\n",
       "       [-7.73200136e+00, -2.95484601e+00,  3.27677755e+00],\n",
       "       [ 4.78731699e-01,  8.85387535e+00,  5.90169765e+00],\n",
       "       [-7.14791574e+00, -1.84463530e+00,  4.53481533e+00],\n",
       "       [-7.27158108e+00, -3.64683855e-01,  1.99023117e+00],\n",
       "       [-4.30415486e+00, -6.39468296e+00,  2.16504817e+00],\n",
       "       [-5.64578001e+00, -6.66682085e+00,  5.34016520e+00],\n",
       "       [-7.40692032e-01,  9.80994056e+00,  4.94774233e+00],\n",
       "       [ 2.17452961e+00,  7.74678887e+00,  3.71915065e+00],\n",
       "       [-5.54149190e+00, -1.86105843e+00,  1.44297775e+00],\n",
       "       [ 4.31042298e-01,  7.85623268e+00,  4.36083676e+00],\n",
       "       [ 1.09051849e+00,  7.28035467e+00,  5.14085040e+00],\n",
       "       [-7.08906289e+00, -9.84451404e-01,  1.69595026e+00],\n",
       "       [ 7.05184565e-01,  7.93790788e+00,  5.56987142e+00],\n",
       "       [-6.11887814e+00, -1.05297306e+00,  2.02666244e+00],\n",
       "       [-5.79169232e+00, -2.41546965e+00,  2.60877878e+00],\n",
       "       [-3.78337251e+00, -5.68930274e+00,  5.08662466e+00],\n",
       "       [-6.97958162e+00, -2.50566883e+00,  3.44988840e+00],\n",
       "       [ 7.40382688e-01,  9.81794527e+00,  6.90226231e+00],\n",
       "       [-4.13903347e+00, -7.19701353e+00,  4.13646226e+00],\n",
       "       [ 9.76914238e-01,  8.87263745e+00,  4.49016898e+00],\n",
       "       [-1.01897863e-01,  8.15480928e+00,  5.08620688e+00],\n",
       "       [-5.25975692e+00, -6.16084174e+00,  3.19354809e+00],\n",
       "       [-1.07551539e-02,  9.78951673e+00,  4.75003032e+00],\n",
       "       [ 1.67831349e+00,  8.96317921e+00,  4.79288977e+00],\n",
       "       [-4.17679663e+00, -4.95454163e+00,  5.09730170e+00],\n",
       "       [-4.84974850e-01,  1.00192841e+01,  4.99407816e+00],\n",
       "       [-3.74260415e-01,  9.15167037e+00,  5.15428536e+00],\n",
       "       [ 2.80560988e+00,  9.37459467e+00,  5.44769176e+00],\n",
       "       [-5.61389472e-01,  7.41483295e+00,  5.71022077e+00],\n",
       "       [-8.89903897e-01,  8.80902700e+00,  7.53519171e+00],\n",
       "       [-3.88516446e+00, -4.16709771e+00,  3.23554334e+00],\n",
       "       [-5.28760070e+00, -1.36042834e+00,  3.03853279e+00],\n",
       "       [-8.58311161e+00, -1.17496818e+00,  3.57345279e+00],\n",
       "       [ 4.05700836e-01,  9.01534808e+00,  5.84908699e+00],\n",
       "       [ 1.57626352e+00,  8.67205448e+00,  4.68131887e+00],\n",
       "       [-9.37397101e-01,  9.16942338e+00,  5.34698904e+00],\n",
       "       [-1.56829201e-01,  9.73281112e+00,  5.09797511e+00],\n",
       "       [-7.43703004e+00, -3.88472773e+00,  4.43537940e+00],\n",
       "       [-7.69192727e+00, -1.59397507e+00,  4.54875532e+00],\n",
       "       [-3.34243440e+00, -4.95246767e+00,  4.89952819e+00],\n",
       "       [-6.12199722e+00, -7.43615794e+00,  1.68891042e+00],\n",
       "       [-6.57982586e+00, -4.92073705e+00,  4.21799036e+00],\n",
       "       [-2.96557562e+00, -5.26675762e+00,  4.15344678e+00],\n",
       "       [-6.69082996e+00, -2.37014276e+00, -7.29632066e-03],\n",
       "       [-4.50332579e+00, -6.20513229e+00,  4.09067675e+00],\n",
       "       [-6.40383242e+00, -4.71606435e+00,  4.54844397e+00],\n",
       "       [ 1.79465638e+00,  9.47907310e+00,  4.52105189e+00],\n",
       "       [-3.51908600e+00, -5.45058881e+00,  3.26326696e+00],\n",
       "       [-5.14235102e+00, -7.29348939e+00,  5.24518318e+00],\n",
       "       [-4.25548153e+00, -5.31234398e+00,  3.71394479e+00],\n",
       "       [-5.91740815e+00,  8.01540999e-01,  2.96256640e+00],\n",
       "       [-3.91963148e+00, -4.08450732e+00,  4.35933875e+00],\n",
       "       [-3.05345519e+00, -5.60583510e+00,  3.43226901e+00],\n",
       "       [ 1.55284971e+00,  9.61235900e+00,  6.49094871e+00],\n",
       "       [-5.74278531e-01,  9.00546091e+00,  4.25441729e+00],\n",
       "       [-6.02513978e+00, -2.72702181e+00,  1.70534004e+00],\n",
       "       [-4.84172755e+00, -2.29165188e+00,  1.09252546e+00],\n",
       "       [-7.89260225e+00, -1.34717346e+00,  3.86962416e+00],\n",
       "       [-7.09055670e+00, -2.18885715e+00,  3.10443184e+00],\n",
       "       [-1.00879258e+00,  9.38852880e+00,  5.26189707e+00],\n",
       "       [-5.07178622e+00, -7.00082296e+00,  2.28816065e+00],\n",
       "       [-7.58869178e+00, -2.76466115e+00,  8.54116729e-01],\n",
       "       [-4.71683705e+00, -5.84331599e+00,  3.48448598e+00],\n",
       "       [-4.72770511e+00, -5.00583753e+00,  5.21884109e+00],\n",
       "       [-1.76704870e+00,  7.38028212e+00,  4.25743583e+00],\n",
       "       [-4.74995667e+00, -4.38234250e+00,  3.42730073e+00],\n",
       "       [-5.06941634e+00, -7.72697671e+00,  3.88413402e+00],\n",
       "       [-7.72970375e+00, -2.19100374e+00,  1.98433547e+00],\n",
       "       [-4.75711555e+00, -3.49302014e+00,  2.12129965e+00],\n",
       "       [-1.88957868e+00, -7.21720821e+00,  3.26643814e+00],\n",
       "       [-4.99462357e+00, -4.99293808e+00,  4.43843279e+00],\n",
       "       [ 4.44457214e-01,  7.87034743e+00,  7.07777968e+00],\n",
       "       [-7.39213047e+00, -3.76185256e+00, -2.55382751e-01]])"
      ]
     },
     "execution_count": 47,
     "metadata": {},
     "output_type": "execute_result"
    }
   ],
   "source": [
    "feature"
   ]
  },
  {
   "cell_type": "code",
   "execution_count": 48,
   "id": "9d220575",
   "metadata": {},
   "outputs": [
    {
     "data": {
      "text/plain": [
       "array([[ 0.81574794,  8.00803699,  5.20013998],\n",
       "       [ 0.27069599,  7.67190858,  7.32605274],\n",
       "       [ 1.28379448,  9.81377111,  3.9415864 ],\n",
       "       [ 1.33619414,  8.72653333,  7.25251752],\n",
       "       [ 4.00053103,  9.22591034,  4.94173995],\n",
       "       [-1.2733557 ,  8.53418794,  2.84091121],\n",
       "       [-0.50449425,  9.21475007,  5.07154584],\n",
       "       [-0.37499031,  8.31565999,  6.17157925],\n",
       "       [ 0.4787317 ,  8.85387535,  5.90169765],\n",
       "       [-0.74069203,  9.80994056,  4.94774233],\n",
       "       [ 2.17452961,  7.74678887,  3.71915065],\n",
       "       [ 0.4310423 ,  7.85623268,  4.36083676],\n",
       "       [ 1.09051849,  7.28035467,  5.1408504 ],\n",
       "       [ 0.70518457,  7.93790788,  5.56987142],\n",
       "       [ 0.74038269,  9.81794527,  6.90226231],\n",
       "       [ 0.97691424,  8.87263745,  4.49016898],\n",
       "       [-0.10189786,  8.15480928,  5.08620688],\n",
       "       [-0.01075515,  9.78951673,  4.75003032],\n",
       "       [ 1.67831349,  8.96317921,  4.79288977],\n",
       "       [-0.48497485, 10.01928407,  4.99407816],\n",
       "       [-0.37426042,  9.15167037,  5.15428536],\n",
       "       [ 2.80560988,  9.37459467,  5.44769176],\n",
       "       [-0.56138947,  7.41483295,  5.71022077],\n",
       "       [-0.8899039 ,  8.809027  ,  7.53519171],\n",
       "       [ 0.40570084,  9.01534808,  5.84908699],\n",
       "       [ 1.57626352,  8.67205448,  4.68131887],\n",
       "       [-0.9373971 ,  9.16942338,  5.34698904],\n",
       "       [-0.1568292 ,  9.73281112,  5.09797511],\n",
       "       [ 1.79465638,  9.4790731 ,  4.52105189],\n",
       "       [ 1.55284971,  9.612359  ,  6.49094871],\n",
       "       [-0.57427853,  9.00546091,  4.25441729],\n",
       "       [-1.00879258,  9.3885288 ,  5.26189707],\n",
       "       [-1.7670487 ,  7.38028212,  4.25743583],\n",
       "       [ 0.44445721,  7.87034743,  7.07777968]])"
      ]
     },
     "execution_count": 48,
     "metadata": {},
     "output_type": "execute_result"
    }
   ],
   "source": [
    "feature[y_pred==0]"
   ]
  },
  {
   "cell_type": "code",
   "execution_count": null,
   "id": "96eb9524",
   "metadata": {},
   "outputs": [],
   "source": []
  },
  {
   "cell_type": "code",
   "execution_count": 52,
   "id": "f801e1c3",
   "metadata": {},
   "outputs": [
    {
     "data": {
      "text/plain": [
       "array([ 0.66688074,  3.47550721,  0.74714391,  1.97510812,  3.58903835,\n",
       "        2.84608053,  1.73365865,  2.40144244,  3.87727987,  2.93085723,\n",
       "        3.27677755,  4.53481533,  1.99023117,  1.44297775,  1.69595026,\n",
       "        2.02666244,  2.60877878,  3.4498884 ,  3.03853279,  3.57345279,\n",
       "        4.4353794 ,  4.54875532, -0.00729632,  2.9625664 ,  1.70534004,\n",
       "        1.09252546,  3.86962416,  3.10443184,  0.85411673,  1.98433547,\n",
       "        2.12129965, -0.25538275])"
      ]
     },
     "execution_count": 52,
     "metadata": {},
     "output_type": "execute_result"
    }
   ],
   "source": [
    "feature[y_pred==2,2]"
   ]
  },
  {
   "cell_type": "markdown",
   "id": "e08eb4fb",
   "metadata": {},
   "source": [
    "### subsetting the dataframes and subsetting the arrays by cluster or target variable"
   ]
  },
  {
   "cell_type": "markdown",
   "id": "f0e8ebc5",
   "metadata": {},
   "source": []
  },
  {
   "cell_type": "code",
   "execution_count": 59,
   "id": "5d7cf048",
   "metadata": {},
   "outputs": [
    {
     "data": {
      "image/png": "[encoded data removed]",
      "text/plain": [
       "<Figure size 432x288 with 1 Axes>"
      ]
     },
     "metadata": {
      "needs_background": "light"
     },
     "output_type": "display_data"
    }
   ],
   "source": [
    "plt.scatter(feature[y_pred==0,0],feature[y_pred==0,1],color='red')\n",
    "plt.scatter(feature[y_pred==1,0],feature[y_pred==1,1],color='green')\n",
    "plt.scatter(feature[y_pred==2,0],feature[y_pred==2,1],color='yellow')\n",
    "plt.scatter(model_2.cluster_centers_[:,0],model_2.cluster_centers_[:,1],label='cluster_centers',color='orange')\n",
    "plt.legend()\n",
    "plt.show()\n",
    "\n"
   ]
  },
  {
   "cell_type": "code",
   "execution_count": null,
   "id": "768ff494",
   "metadata": {},
   "outputs": [],
   "source": []
  },
  {
   "cell_type": "code",
   "execution_count": null,
   "id": "41314959",
   "metadata": {},
   "outputs": [],
   "source": []
  },
  {
   "cell_type": "code",
   "execution_count": null,
   "id": "e77fc587",
   "metadata": {},
   "outputs": [],
   "source": []
  },
  {
   "cell_type": "code",
   "execution_count": null,
   "id": "55f33bc1",
   "metadata": {},
   "outputs": [],
   "source": []
  },
  {
   "cell_type": "code",
   "execution_count": null,
   "id": "04a4efb9",
   "metadata": {},
   "outputs": [],
   "source": []
  },
  {
   "cell_type": "code",
   "execution_count": null,
   "id": "920e508b",
   "metadata": {},
   "outputs": [],
   "source": []
  },
  {
   "cell_type": "code",
   "execution_count": null,
   "id": "6a0e6fcf",
   "metadata": {},
   "outputs": [],
   "source": []
  }
 ],
 "metadata": {
  "kernelspec": {
   "display_name": "Python 3",
   "language": "python",
   "name": "python3"
  },
  "language_info": {
   "codemirror_mode": {
    "name": "ipython",
    "version": 3
   },
   "file_extension": ".py",
   "mimetype": "text/x-python",
   "name": "python",
   "nbconvert_exporter": "python",
   "pygments_lexer": "ipython3",
   "version": "3.8.8"
  }
 },
 "nbformat": 4,
 "nbformat_minor": 5
}
